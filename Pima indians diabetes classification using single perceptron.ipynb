{
  "nbformat": 4,
  "nbformat_minor": 0,
  "metadata": {
    "colab": {
      "name": "Lab9.ipynb",
      "provenance": [],
      "authorship_tag": "ABX9TyPGMN8IrruEGTCWURnURlj7",
      "include_colab_link": true
    },
    "kernelspec": {
      "name": "python3",
      "display_name": "Python 3"
    },
    "accelerator": "GPU"
  },
  "cells": [
    {
      "cell_type": "markdown",
      "metadata": {
        "id": "view-in-github",
        "colab_type": "text"
      },
      "source": [
        "<a href=\"https://colab.research.google.com/github/weilee0622/Pima-indians-diabetes-classification-using-single-perceptron/blob/master/Pima%20indians%20diabetes%20classification%20using%20single%20perceptron.ipynb\" target=\"_parent\"><img src=\"https://colab.research.google.com/assets/colab-badge.svg\" alt=\"Open In Colab\"/></a>"
      ]
    },
    {
      "cell_type": "code",
      "metadata": {
        "id": "_CzbnntRgEW1"
      },
      "source": [
        "import pandas as pd\r\n",
        "\r\n",
        "col_names = ['pregnant','glucose','bp','skin','insulin','bmi','pedigree','age','label']\r\n",
        "train = pd.read_csv('pima-indians-diabetes.csv', header=None, names=col_names)"
      ],
      "execution_count": null,
      "outputs": []
    },
    {
      "cell_type": "code",
      "metadata": {
        "colab": {
          "base_uri": "https://localhost:8080/"
        },
        "id": "YVSpTcLUiJpy",
        "outputId": "53fbccbb-feb4-439f-99e9-2d25bd06704d"
      },
      "source": [
        "train.shape"
      ],
      "execution_count": null,
      "outputs": [
        {
          "output_type": "execute_result",
          "data": {
            "text/plain": [
              "(768, 9)"
            ]
          },
          "metadata": {
            "tags": []
          },
          "execution_count": 3
        }
      ]
    },
    {
      "cell_type": "code",
      "metadata": {
        "colab": {
          "base_uri": "https://localhost:8080/"
        },
        "id": "WLjWsdbUibEL",
        "outputId": "f8e5851a-163f-441e-bbfb-33656c643d05"
      },
      "source": [
        "from google.colab import drive\r\n",
        "drive.mount('/content/drive')"
      ],
      "execution_count": null,
      "outputs": [
        {
          "output_type": "stream",
          "text": [
            "Mounted at /content/drive\n"
          ],
          "name": "stdout"
        }
      ]
    },
    {
      "cell_type": "code",
      "metadata": {
        "id": "PNQRgCQujahA"
      },
      "source": [
        "import pandas as pd\r\n",
        "\r\n",
        "col_names = ['pregnant','glucose','bp','skin','insulin','bmi','pedigree','age','label']\r\n",
        "pima = pd.read_csv('/content/drive/MyDrive/datasets/pima-indians-diabetes.csv', header=None, names=col_names)"
      ],
      "execution_count": null,
      "outputs": []
    },
    {
      "cell_type": "code",
      "metadata": {
        "colab": {
          "base_uri": "https://localhost:8080/"
        },
        "id": "pxc0p2C0j-zZ",
        "outputId": "199b4f90-889e-4061-957b-5125c84e1665"
      },
      "source": [
        "pima.info()"
      ],
      "execution_count": null,
      "outputs": [
        {
          "output_type": "stream",
          "text": [
            "<class 'pandas.core.frame.DataFrame'>\n",
            "RangeIndex: 768 entries, 0 to 767\n",
            "Data columns (total 9 columns):\n",
            " #   Column    Non-Null Count  Dtype  \n",
            "---  ------    --------------  -----  \n",
            " 0   pregnant  768 non-null    int64  \n",
            " 1   glucose   768 non-null    int64  \n",
            " 2   bp        768 non-null    int64  \n",
            " 3   skin      768 non-null    int64  \n",
            " 4   insulin   768 non-null    int64  \n",
            " 5   bmi       768 non-null    float64\n",
            " 6   pedigree  768 non-null    float64\n",
            " 7   age       768 non-null    int64  \n",
            " 8   label     768 non-null    int64  \n",
            "dtypes: float64(2), int64(7)\n",
            "memory usage: 54.1 KB\n"
          ],
          "name": "stdout"
        }
      ]
    },
    {
      "cell_type": "code",
      "metadata": {
        "colab": {
          "base_uri": "https://localhost:8080/"
        },
        "id": "ezQjCmTJk37z",
        "outputId": "c7ec96a6-8b7a-45f6-c5c1-90bf6f7a688c"
      },
      "source": [
        "#Selecting Feature (important feature)\r\n",
        "features = ['pregnant','glucose','bp','insulin','bmi','pedigree','age']\r\n",
        "\r\n",
        "X = pima[features]\r\n",
        "y = pima['label']\r\n",
        "\r\n",
        "print(X.shape)\r\n",
        "print(y.shape)"
      ],
      "execution_count": null,
      "outputs": [
        {
          "output_type": "stream",
          "text": [
            "(768, 7)\n",
            "(768,)\n"
          ],
          "name": "stdout"
        }
      ]
    },
    {
      "cell_type": "code",
      "metadata": {
        "id": "xGwpCGcalNfE"
      },
      "source": [
        "from sklearn.model_selection import train_test_split\r\n",
        "\r\n",
        "X_train, X_test, y_train, y_test = train_test_split(X, y, test_size=0.25, random_state=101)"
      ],
      "execution_count": null,
      "outputs": []
    },
    {
      "cell_type": "code",
      "metadata": {
        "colab": {
          "base_uri": "https://localhost:8080/"
        },
        "id": "HmOv3eFLlOzT",
        "outputId": "4a2b25fe-e029-4d84-8357-fc83fe513cbd"
      },
      "source": [
        "#Create a perceptron object\r\n",
        "from sklearn.linear_model import Perceptron\r\n",
        "\r\n",
        "pct = Perceptron(max_iter=100, eta0=0.005, random_state=0)\r\n",
        "\r\n",
        "#Train the perceptron\r\n",
        "pct.fit(X_train, y_train)\r\n",
        "\r\n",
        "#Call the predict function\r\n",
        "y_pred = pct.predict(X_test)\r\n",
        "\r\n",
        "from sklearn.metrics import accuracy_score\r\n",
        "\r\n",
        "print(accuracy_score(y_test, y_pred))"
      ],
      "execution_count": null,
      "outputs": [
        {
          "output_type": "stream",
          "text": [
            "0.65625\n"
          ],
          "name": "stdout"
        }
      ]
    },
    {
      "cell_type": "code",
      "metadata": {
        "id": "3PajWdqdn_oN"
      },
      "source": [
        "%matplotlib inline\r\n",
        "import matplotlib.pyplot as plt\r\n",
        "import seaborn as sns\r\n",
        "import numpy as np"
      ],
      "execution_count": null,
      "outputs": []
    },
    {
      "cell_type": "code",
      "metadata": {
        "colab": {
          "base_uri": "https://localhost:8080/"
        },
        "id": "fb09eSMkoKmC",
        "outputId": "713cac8a-8862-4e63-f56a-2782698794c1"
      },
      "source": [
        "#Model Evaluation using confusion Matrix\r\n",
        "from sklearn.metrics import confusion_matrix\r\n",
        "\r\n",
        "cm = confusion_matrix(y_test, y_pred)\r\n",
        "print(cm)"
      ],
      "execution_count": null,
      "outputs": [
        {
          "output_type": "stream",
          "text": [
            "[[96 28]\n",
            " [38 30]]\n"
          ],
          "name": "stdout"
        }
      ]
    },
    {
      "cell_type": "code",
      "metadata": {
        "colab": {
          "base_uri": "https://localhost:8080/",
          "height": 342
        },
        "id": "c-AOFd_7o17b",
        "outputId": "89e8fea8-ab83-4275-c6b5-94dbdf73d8db"
      },
      "source": [
        "#Visualize confusion matrix using heatmap\r\n",
        "class_names = [0, 1]\r\n",
        "\r\n",
        "fig, ax = plt.subplots()\r\n",
        "tick_names = np.arange(len(col_names))\r\n",
        "#Plot the label\r\n",
        "plt.xticks(tick_names, col_names)\r\n",
        "plt.yticks(tick_names, col_names)\r\n",
        "\r\n",
        "sns.heatmap(pd.DataFrame(cm), annot=True, cmap='YlGnBu', fmt='g')\r\n",
        "ax.xaxis.set_label_position('top')\r\n",
        "plt.tight_layout()\r\n",
        "plt.title('Confusion Matrix')\r\n",
        "plt.ylabel('Actual label')\r\n",
        "plt.xlabel('Predicted label')"
      ],
      "execution_count": null,
      "outputs": [
        {
          "output_type": "execute_result",
          "data": {
            "text/plain": [
              "Text(0.5, 257.44, 'Predicted label')"
            ]
          },
          "metadata": {
            "tags": []
          },
          "execution_count": 19
        },
        {
          "output_type": "display_data",
          "data": {
            "image/png": "[encoded data removed]",
            "text/plain": [
              "<Figure size 432x288 with 2 Axes>"
            ]
          },
          "metadata": {
            "tags": [],
            "needs_background": "light"
          }
        }
      ]
    },
    {
      "cell_type": "code",
      "metadata": {
        "colab": {
          "base_uri": "https://localhost:8080/"
        },
        "id": "U0_QakzJpbJT",
        "outputId": "b033ae2d-ead2-4d7f-ab2a-e2a5dc08d5fd"
      },
      "source": [
        "from sklearn import metrics\r\n",
        "print('Accuracy:',metrics.accuracy_score(y_test, y_pred))\r\n",
        "print('Precision:',metrics.precision_score(y_test, y_pred))\r\n",
        "print('Recall:',metrics.recall_score(y_test, y_pred))"
      ],
      "execution_count": null,
      "outputs": [
        {
          "output_type": "stream",
          "text": [
            "Accuracy: 0.65625\n",
            "Precision: 0.5172413793103449\n",
            "Recall: 0.4411764705882353\n"
          ],
          "name": "stdout"
        }
      ]
    },
    {
      "cell_type": "code",
      "metadata": {
        "id": "Zc-GPht2qI7S"
      },
      "source": [
        ""
      ],
      "execution_count": null,
      "outputs": []
    }
  ]
}