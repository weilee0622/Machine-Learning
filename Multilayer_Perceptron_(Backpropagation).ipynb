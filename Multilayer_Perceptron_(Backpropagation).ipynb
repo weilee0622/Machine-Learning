{
  "nbformat": 4,
  "nbformat_minor": 0,
  "metadata": {
    "colab": {
      "name": "Multilayer Perceptron (Backpropagation).ipynb",
      "provenance": [],
      "collapsed_sections": [],
      "authorship_tag": "ABX9TyN9Yg6sjwPkqR+d4flOGcm4",
      "include_colab_link": true
    },
    "kernelspec": {
      "name": "python3",
      "display_name": "Python 3"
    },
    "accelerator": "GPU"
  },
  "cells": [
    {
      "cell_type": "markdown",
      "metadata": {
        "id": "view-in-github",
        "colab_type": "text"
      },
      "source": [
        "<a href=\"https://colab.research.google.com/github/weilee0622/Machine-Learning/blob/master/Multilayer_Perceptron_(Backpropagation).ipynb\" target=\"_parent\"><img src=\"https://colab.research.google.com/assets/colab-badge.svg\" alt=\"Open In Colab\"/></a>"
      ]
    },
    {
      "cell_type": "markdown",
      "metadata": {
        "id": "ZSp_NpR7Y2HK"
      },
      "source": [
        "### Building an Image Classifier with Multilayer Perceptron"
      ]
    },
    {
      "cell_type": "markdown",
      "metadata": {
        "id": "GQETy9kdZLog"
      },
      "source": [
        "### Setup"
      ]
    },
    {
      "cell_type": "code",
      "metadata": {
        "id": "pBVYAAevYfCk"
      },
      "source": [
        "import numpy as np\r\n",
        "%matplotlib inline\r\n",
        "import matplotlib.pyplot as plt\r\n",
        "\r\n",
        "import tensorflow as tf\r\n",
        "from tensorflow import keras"
      ],
      "execution_count": 1,
      "outputs": []
    },
    {
      "cell_type": "code",
      "metadata": {
        "colab": {
          "base_uri": "https://localhost:8080/",
          "height": 35
        },
        "id": "GcntaF0waM1C",
        "outputId": "93ed3fa0-4a79-4b64-e014-06fbab9a890a"
      },
      "source": [
        "tf.__version__"
      ],
      "execution_count": 2,
      "outputs": [
        {
          "output_type": "execute_result",
          "data": {
            "application/vnd.google.colaboratory.intrinsic+json": {
              "type": "string"
            },
            "text/plain": [
              "'2.4.0'"
            ]
          },
          "metadata": {
            "tags": []
          },
          "execution_count": 2
        }
      ]
    },
    {
      "cell_type": "code",
      "metadata": {
        "colab": {
          "base_uri": "https://localhost:8080/",
          "height": 35
        },
        "id": "Y2k-14GBaR5e",
        "outputId": "ec914d4e-241e-41c7-d7be-9bf766860efc"
      },
      "source": [
        "keras.__version__"
      ],
      "execution_count": 3,
      "outputs": [
        {
          "output_type": "execute_result",
          "data": {
            "application/vnd.google.colaboratory.intrinsic+json": {
              "type": "string"
            },
            "text/plain": [
              "'2.4.0'"
            ]
          },
          "metadata": {
            "tags": []
          },
          "execution_count": 3
        }
      ]
    },
    {
      "cell_type": "code",
      "metadata": {
        "colab": {
          "base_uri": "https://localhost:8080/"
        },
        "id": "Pd5broZIac3W",
        "outputId": "563bc19d-03e4-4bc5-be98-1d0a458468a5"
      },
      "source": [
        "fashion_mnist = keras.datasets.fashion_mnist\r\n",
        "(X_train_full, y_train_full), (X_test, y_test) = fashion_mnist.load_data()"
      ],
      "execution_count": 4,
      "outputs": [
        {
          "output_type": "stream",
          "text": [
            "Downloading data from https://storage.googleapis.com/tensorflow/tf-keras-datasets/train-labels-idx1-ubyte.gz\n",
            "32768/29515 [=================================] - 0s 0us/step\n",
            "Downloading data from https://storage.googleapis.com/tensorflow/tf-keras-datasets/train-images-idx3-ubyte.gz\n",
            "26427392/26421880 [==============================] - 0s 0us/step\n",
            "Downloading data from https://storage.googleapis.com/tensorflow/tf-keras-datasets/t10k-labels-idx1-ubyte.gz\n",
            "8192/5148 [===============================================] - 0s 0us/step\n",
            "Downloading data from https://storage.googleapis.com/tensorflow/tf-keras-datasets/t10k-images-idx3-ubyte.gz\n",
            "4423680/4422102 [==============================] - 0s 0us/step\n"
          ],
          "name": "stdout"
        }
      ]
    },
    {
      "cell_type": "code",
      "metadata": {
        "colab": {
          "base_uri": "https://localhost:8080/"
        },
        "id": "88INaBAobOvf",
        "outputId": "f628f469-d2fb-46dd-c060-b7d246ec491e"
      },
      "source": [
        "X_train_full.shape"
      ],
      "execution_count": 5,
      "outputs": [
        {
          "output_type": "execute_result",
          "data": {
            "text/plain": [
              "(60000, 28, 28)"
            ]
          },
          "metadata": {
            "tags": []
          },
          "execution_count": 5
        }
      ]
    },
    {
      "cell_type": "code",
      "metadata": {
        "colab": {
          "base_uri": "https://localhost:8080/"
        },
        "id": "An60PdfsbtBm",
        "outputId": "621a4059-a38c-4129-d222-78b29baba3c4"
      },
      "source": [
        "X_train_full.dtype"
      ],
      "execution_count": 6,
      "outputs": [
        {
          "output_type": "execute_result",
          "data": {
            "text/plain": [
              "dtype('uint8')"
            ]
          },
          "metadata": {
            "tags": []
          },
          "execution_count": 6
        }
      ]
    },
    {
      "cell_type": "markdown",
      "metadata": {
        "id": "_6iXrroFcAFa"
      },
      "source": [
        "### Split 5000 training data as validation image"
      ]
    },
    {
      "cell_type": "code",
      "metadata": {
        "colab": {
          "base_uri": "https://localhost:8080/",
          "height": 265
        },
        "id": "9rZqBtcmbwF-",
        "outputId": "6e2487f3-c814-42a1-ed05-9a1b1b61db3a"
      },
      "source": [
        "plt.figure()\r\n",
        "plt.imshow(X_train_full[0])\r\n",
        "plt.colorbar()\r\n",
        "plt.grid(False)\r\n",
        "plt.show()"
      ],
      "execution_count": 8,
      "outputs": [
        {
          "output_type": "display_data",
          "data": {
            "image/png": "[encoded data removed]",
            "text/plain": [
              "<Figure size 432x288 with 2 Axes>"
            ]
          },
          "metadata": {
            "tags": [],
            "needs_background": "light"
          }
        }
      ]
    },
    {
      "cell_type": "code",
      "metadata": {
        "id": "pPkehdUlcIOH"
      },
      "source": [
        "X_valid, X_train = X_train_full[0: 5000] / 255, X_train_full[5000:] / 255 #Scale as 0 to 1\r\n",
        "y_valid, y_train = y_train_full[0:5000], y_train_full[5000:]\r\n",
        "X_test = X_test / 255"
      ],
      "execution_count": 9,
      "outputs": []
    },
    {
      "cell_type": "code",
      "metadata": {
        "colab": {
          "base_uri": "https://localhost:8080/"
        },
        "id": "wDkZHemjdJs3",
        "outputId": "0b003921-d510-4aa5-be96-314b49ae322e"
      },
      "source": [
        "X_train.shape"
      ],
      "execution_count": 10,
      "outputs": [
        {
          "output_type": "execute_result",
          "data": {
            "text/plain": [
              "(55000, 28, 28)"
            ]
          },
          "metadata": {
            "tags": []
          },
          "execution_count": 10
        }
      ]
    },
    {
      "cell_type": "code",
      "metadata": {
        "colab": {
          "base_uri": "https://localhost:8080/"
        },
        "id": "5GszDvrndMgO",
        "outputId": "63e33f55-d517-4392-b706-7b6daa8290dc"
      },
      "source": [
        "X_valid.shape"
      ],
      "execution_count": 11,
      "outputs": [
        {
          "output_type": "execute_result",
          "data": {
            "text/plain": [
              "(5000, 28, 28)"
            ]
          },
          "metadata": {
            "tags": []
          },
          "execution_count": 11
        }
      ]
    },
    {
      "cell_type": "code",
      "metadata": {
        "colab": {
          "base_uri": "https://localhost:8080/"
        },
        "id": "NZLV8VuEdODt",
        "outputId": "e440c2e4-3edf-413d-d334-d220ec68bb8e"
      },
      "source": [
        "X_test.shape"
      ],
      "execution_count": 12,
      "outputs": [
        {
          "output_type": "execute_result",
          "data": {
            "text/plain": [
              "(10000, 28, 28)"
            ]
          },
          "metadata": {
            "tags": []
          },
          "execution_count": 12
        }
      ]
    },
    {
      "cell_type": "code",
      "metadata": {
        "colab": {
          "base_uri": "https://localhost:8080/",
          "height": 248
        },
        "id": "0atk0vTmdTpP",
        "outputId": "c03fb1a4-47ea-40ec-9b82-680973a94646"
      },
      "source": [
        "#No. 5001 image\r\n",
        "plt.imshow(X_train[0], cmap = 'binary')\r\n",
        "plt.axis('off')\r\n",
        "plt.show()"
      ],
      "execution_count": 13,
      "outputs": [
        {
          "output_type": "display_data",
          "data": {
            "image/png": "[encoded data removed]",
            "text/plain": [
              "<Figure size 432x288 with 1 Axes>"
            ]
          },
          "metadata": {
            "tags": [],
            "needs_background": "light"
          }
        }
      ]
    },
    {
      "cell_type": "code",
      "metadata": {
        "colab": {
          "base_uri": "https://localhost:8080/"
        },
        "id": "UHn84uEydrrW",
        "outputId": "33aa64f3-c2e4-40bd-b53a-5565a803d113"
      },
      "source": [
        "y_train"
      ],
      "execution_count": 14,
      "outputs": [
        {
          "output_type": "execute_result",
          "data": {
            "text/plain": [
              "array([4, 0, 7, ..., 3, 0, 5], dtype=uint8)"
            ]
          },
          "metadata": {
            "tags": []
          },
          "execution_count": 14
        }
      ]
    },
    {
      "cell_type": "code",
      "metadata": {
        "id": "jq7wu5W_d2R9"
      },
      "source": [
        "#Create list of string based on the label\r\n",
        "class_names = ['T-shirt/top', 'Trouser', 'Pullover', 'Dress', 'Coat', 'Sandal', 'Shirt', 'Sneaker', 'Bag', 'Ankle Boot']"
      ],
      "execution_count": 21,
      "outputs": []
    },
    {
      "cell_type": "code",
      "metadata": {
        "colab": {
          "base_uri": "https://localhost:8080/",
          "height": 35
        },
        "id": "-G5n51OredC3",
        "outputId": "57c58834-055c-4f73-b876-3a25a457a607"
      },
      "source": [
        "class_names[y_train[0]]"
      ],
      "execution_count": 18,
      "outputs": [
        {
          "output_type": "execute_result",
          "data": {
            "application/vnd.google.colaboratory.intrinsic+json": {
              "type": "string"
            },
            "text/plain": [
              "'Coat'"
            ]
          },
          "metadata": {
            "tags": []
          },
          "execution_count": 18
        }
      ]
    },
    {
      "cell_type": "markdown",
      "metadata": {
        "id": "3t1oxV04e2Td"
      },
      "source": [
        "### Creating the Model Using the Sequential API"
      ]
    },
    {
      "cell_type": "code",
      "metadata": {
        "id": "9JEXrgVzel8d"
      },
      "source": [
        "model = keras.models.Sequential()\r\n",
        "model.add(keras.layers.Flatten(input_shape=[28,28])) #Flatten to one dimension array as input layer\r\n",
        "\r\n",
        "#Create 2 hidden layers, Dense = neurons\r\n",
        "model.add(keras.layers.Dense(300, activation='relu', kernel_regularizer=keras.regularizers.l2(0.01)))\r\n",
        "model.add(keras.layers.Dense(300, activation='relu', kernel_regularizer=keras.regularizers.l2(0.01)))\r\n",
        "model.add(keras.layers.Dense(100, activation='relu'))\r\n",
        "model.add(keras.layers.Dropout(rate=0.2))\r\n",
        "model.add(keras.layers.Dense(10, activation='softmax'))"
      ],
      "execution_count": 90,
      "outputs": []
    },
    {
      "cell_type": "code",
      "metadata": {
        "colab": {
          "base_uri": "https://localhost:8080/"
        },
        "id": "mHxTyqf_w5zO",
        "outputId": "cdbabb9c-461b-4ba0-ff38-c5404f7a5362"
      },
      "source": [
        "model.layers"
      ],
      "execution_count": 91,
      "outputs": [
        {
          "output_type": "execute_result",
          "data": {
            "text/plain": [
              "[<tensorflow.python.keras.layers.core.Flatten at 0x7eff6c6899e8>,\n",
              " <tensorflow.python.keras.layers.core.Dense at 0x7eff141d7b70>,\n",
              " <tensorflow.python.keras.layers.core.Dense at 0x7eff141d7550>,\n",
              " <tensorflow.python.keras.layers.core.Dense at 0x7eff141d7d68>,\n",
              " <tensorflow.python.keras.layers.core.Dropout at 0x7eff60036710>,\n",
              " <tensorflow.python.keras.layers.core.Dense at 0x7eff1423ada0>]"
            ]
          },
          "metadata": {
            "tags": []
          },
          "execution_count": 91
        }
      ]
    },
    {
      "cell_type": "code",
      "metadata": {
        "colab": {
          "base_uri": "https://localhost:8080/"
        },
        "id": "wqTWk424e3L1",
        "outputId": "1a692e62-5c17-48e3-c44c-318cc8e63693"
      },
      "source": [
        "model.summary()"
      ],
      "execution_count": 92,
      "outputs": [
        {
          "output_type": "stream",
          "text": [
            "Model: \"sequential_6\"\n",
            "_________________________________________________________________\n",
            "Layer (type)                 Output Shape              Param #   \n",
            "=================================================================\n",
            "flatten_6 (Flatten)          (None, 784)               0         \n",
            "_________________________________________________________________\n",
            "dense_21 (Dense)             (None, 300)               235500    \n",
            "_________________________________________________________________\n",
            "dense_22 (Dense)             (None, 300)               90300     \n",
            "_________________________________________________________________\n",
            "dense_23 (Dense)             (None, 100)               30100     \n",
            "_________________________________________________________________\n",
            "dropout_5 (Dropout)          (None, 100)               0         \n",
            "_________________________________________________________________\n",
            "dense_24 (Dense)             (None, 10)                1010      \n",
            "=================================================================\n",
            "Total params: 356,910\n",
            "Trainable params: 356,910\n",
            "Non-trainable params: 0\n",
            "_________________________________________________________________\n"
          ],
          "name": "stdout"
        }
      ]
    },
    {
      "cell_type": "markdown",
      "metadata": {
        "id": "O_Un2kRpg-e5"
      },
      "source": [
        "### Compiling the Model"
      ]
    },
    {
      "cell_type": "code",
      "metadata": {
        "id": "ycgsTIcngdwn"
      },
      "source": [
        "#Stochastic Gradient Descent for optimizer\r\n",
        "#Not using mini-batch\r\n",
        "model.compile(optimizer='sgd',\r\n",
        "              loss='sparse_categorical_crossentropy',\r\n",
        "              metrics=['accuracy'])"
      ],
      "execution_count": 93,
      "outputs": []
    },
    {
      "cell_type": "code",
      "metadata": {
        "colab": {
          "base_uri": "https://localhost:8080/"
        },
        "id": "W1kqGhCxiKq-",
        "outputId": "ee965973-29cf-4581-e6c4-5e61418ee3fb"
      },
      "source": [
        "history = model.fit(X_train, y_train, epochs=50, validation_data=(X_valid, y_valid))"
      ],
      "execution_count": 94,
      "outputs": [
        {
          "output_type": "stream",
          "text": [
            "Epoch 1/50\n",
            "1719/1719 [==============================] - 5s 3ms/step - loss: 7.3811 - accuracy: 0.6393 - val_loss: 4.3257 - val_accuracy: 0.8244\n",
            "Epoch 2/50\n",
            "1719/1719 [==============================] - 4s 2ms/step - loss: 3.8037 - accuracy: 0.8082 - val_loss: 2.4355 - val_accuracy: 0.8448\n",
            "Epoch 3/50\n",
            "1719/1719 [==============================] - 4s 2ms/step - loss: 2.2152 - accuracy: 0.8210 - val_loss: 1.5206 - val_accuracy: 0.8386\n",
            "Epoch 4/50\n",
            "1719/1719 [==============================] - 4s 2ms/step - loss: 1.4114 - accuracy: 0.8286 - val_loss: 1.0469 - val_accuracy: 0.8430\n",
            "Epoch 5/50\n",
            "1719/1719 [==============================] - 4s 2ms/step - loss: 1.0024 - accuracy: 0.8339 - val_loss: 0.7916 - val_accuracy: 0.8544\n",
            "Epoch 6/50\n",
            "1719/1719 [==============================] - 4s 2ms/step - loss: 0.7876 - accuracy: 0.8395 - val_loss: 0.6644 - val_accuracy: 0.8530\n",
            "Epoch 7/50\n",
            "1719/1719 [==============================] - 4s 2ms/step - loss: 0.6802 - accuracy: 0.8419 - val_loss: 0.6347 - val_accuracy: 0.8350\n",
            "Epoch 8/50\n",
            "1719/1719 [==============================] - 4s 2ms/step - loss: 0.6187 - accuracy: 0.8443 - val_loss: 0.5569 - val_accuracy: 0.8570\n",
            "Epoch 9/50\n",
            "1719/1719 [==============================] - 4s 2ms/step - loss: 0.5831 - accuracy: 0.8457 - val_loss: 0.5281 - val_accuracy: 0.8612\n",
            "Epoch 10/50\n",
            "1719/1719 [==============================] - 4s 2ms/step - loss: 0.5589 - accuracy: 0.8514 - val_loss: 0.5270 - val_accuracy: 0.8596\n",
            "Epoch 11/50\n",
            "1719/1719 [==============================] - 4s 2ms/step - loss: 0.5456 - accuracy: 0.8516 - val_loss: 0.5852 - val_accuracy: 0.8298\n",
            "Epoch 12/50\n",
            "1719/1719 [==============================] - 4s 2ms/step - loss: 0.5341 - accuracy: 0.8538 - val_loss: 0.5041 - val_accuracy: 0.8610\n",
            "Epoch 13/50\n",
            "1719/1719 [==============================] - 4s 2ms/step - loss: 0.5199 - accuracy: 0.8570 - val_loss: 0.5150 - val_accuracy: 0.8586\n",
            "Epoch 14/50\n",
            "1719/1719 [==============================] - 4s 2ms/step - loss: 0.5208 - accuracy: 0.8556 - val_loss: 0.5063 - val_accuracy: 0.8528\n",
            "Epoch 15/50\n",
            "1719/1719 [==============================] - 4s 2ms/step - loss: 0.5084 - accuracy: 0.8599 - val_loss: 0.4797 - val_accuracy: 0.8736\n",
            "Epoch 16/50\n",
            "1719/1719 [==============================] - 4s 2ms/step - loss: 0.5086 - accuracy: 0.8591 - val_loss: 0.4761 - val_accuracy: 0.8690\n",
            "Epoch 17/50\n",
            "1719/1719 [==============================] - 4s 2ms/step - loss: 0.5094 - accuracy: 0.8579 - val_loss: 0.4958 - val_accuracy: 0.8634\n",
            "Epoch 18/50\n",
            "1719/1719 [==============================] - 4s 2ms/step - loss: 0.4996 - accuracy: 0.8599 - val_loss: 0.4890 - val_accuracy: 0.8636\n",
            "Epoch 19/50\n",
            "1719/1719 [==============================] - 4s 2ms/step - loss: 0.4993 - accuracy: 0.8602 - val_loss: 0.4933 - val_accuracy: 0.8604\n",
            "Epoch 20/50\n",
            "1719/1719 [==============================] - 4s 2ms/step - loss: 0.4988 - accuracy: 0.8618 - val_loss: 0.4617 - val_accuracy: 0.8728\n",
            "Epoch 21/50\n",
            "1719/1719 [==============================] - 4s 2ms/step - loss: 0.4977 - accuracy: 0.8625 - val_loss: 0.4805 - val_accuracy: 0.8674\n",
            "Epoch 22/50\n",
            "1719/1719 [==============================] - 4s 2ms/step - loss: 0.4960 - accuracy: 0.8621 - val_loss: 0.5391 - val_accuracy: 0.8380\n",
            "Epoch 23/50\n",
            "1719/1719 [==============================] - 4s 2ms/step - loss: 0.4871 - accuracy: 0.8651 - val_loss: 0.4644 - val_accuracy: 0.8700\n",
            "Epoch 24/50\n",
            "1719/1719 [==============================] - 4s 2ms/step - loss: 0.4894 - accuracy: 0.8626 - val_loss: 0.4796 - val_accuracy: 0.8636\n",
            "Epoch 25/50\n",
            "1719/1719 [==============================] - 4s 2ms/step - loss: 0.4876 - accuracy: 0.8617 - val_loss: 0.4697 - val_accuracy: 0.8680\n",
            "Epoch 26/50\n",
            "1719/1719 [==============================] - 4s 2ms/step - loss: 0.4800 - accuracy: 0.8652 - val_loss: 0.4973 - val_accuracy: 0.8544\n",
            "Epoch 27/50\n",
            "1719/1719 [==============================] - 4s 2ms/step - loss: 0.4824 - accuracy: 0.8655 - val_loss: 0.4679 - val_accuracy: 0.8668\n",
            "Epoch 28/50\n",
            "1719/1719 [==============================] - 4s 2ms/step - loss: 0.4800 - accuracy: 0.8662 - val_loss: 0.4873 - val_accuracy: 0.8586\n",
            "Epoch 29/50\n",
            "1719/1719 [==============================] - 4s 2ms/step - loss: 0.4788 - accuracy: 0.8678 - val_loss: 0.4772 - val_accuracy: 0.8608\n",
            "Epoch 30/50\n",
            "1719/1719 [==============================] - 4s 2ms/step - loss: 0.4800 - accuracy: 0.8639 - val_loss: 0.4947 - val_accuracy: 0.8610\n",
            "Epoch 31/50\n",
            "1719/1719 [==============================] - 4s 2ms/step - loss: 0.4718 - accuracy: 0.8686 - val_loss: 0.4724 - val_accuracy: 0.8650\n",
            "Epoch 32/50\n",
            "1719/1719 [==============================] - 4s 2ms/step - loss: 0.4747 - accuracy: 0.8671 - val_loss: 0.4725 - val_accuracy: 0.8620\n",
            "Epoch 33/50\n",
            "1719/1719 [==============================] - 4s 2ms/step - loss: 0.4654 - accuracy: 0.8719 - val_loss: 0.4565 - val_accuracy: 0.8740\n",
            "Epoch 34/50\n",
            "1719/1719 [==============================] - 4s 2ms/step - loss: 0.4720 - accuracy: 0.8682 - val_loss: 0.4462 - val_accuracy: 0.8764\n",
            "Epoch 35/50\n",
            "1719/1719 [==============================] - 4s 2ms/step - loss: 0.4662 - accuracy: 0.8708 - val_loss: 0.4699 - val_accuracy: 0.8658\n",
            "Epoch 36/50\n",
            "1719/1719 [==============================] - 4s 2ms/step - loss: 0.4662 - accuracy: 0.8697 - val_loss: 0.4847 - val_accuracy: 0.8650\n",
            "Epoch 37/50\n",
            "1719/1719 [==============================] - 4s 2ms/step - loss: 0.4707 - accuracy: 0.8677 - val_loss: 0.4614 - val_accuracy: 0.8704\n",
            "Epoch 38/50\n",
            "1719/1719 [==============================] - 4s 2ms/step - loss: 0.4674 - accuracy: 0.8676 - val_loss: 0.4565 - val_accuracy: 0.8692\n",
            "Epoch 39/50\n",
            "1719/1719 [==============================] - 4s 2ms/step - loss: 0.4670 - accuracy: 0.8697 - val_loss: 0.4563 - val_accuracy: 0.8730\n",
            "Epoch 40/50\n",
            "1719/1719 [==============================] - 4s 2ms/step - loss: 0.4666 - accuracy: 0.8693 - val_loss: 0.4578 - val_accuracy: 0.8732\n",
            "Epoch 41/50\n",
            "1719/1719 [==============================] - 4s 2ms/step - loss: 0.4656 - accuracy: 0.8706 - val_loss: 0.4619 - val_accuracy: 0.8742\n",
            "Epoch 42/50\n",
            "1719/1719 [==============================] - 4s 2ms/step - loss: 0.4739 - accuracy: 0.8654 - val_loss: 0.4483 - val_accuracy: 0.8724\n",
            "Epoch 43/50\n",
            "1719/1719 [==============================] - 4s 2ms/step - loss: 0.4624 - accuracy: 0.8710 - val_loss: 0.4679 - val_accuracy: 0.8692\n",
            "Epoch 44/50\n",
            "1719/1719 [==============================] - 4s 2ms/step - loss: 0.4688 - accuracy: 0.8675 - val_loss: 0.4820 - val_accuracy: 0.8646\n",
            "Epoch 45/50\n",
            "1719/1719 [==============================] - 4s 2ms/step - loss: 0.4643 - accuracy: 0.8710 - val_loss: 0.4584 - val_accuracy: 0.8718\n",
            "Epoch 46/50\n",
            "1719/1719 [==============================] - 4s 3ms/step - loss: 0.4663 - accuracy: 0.8695 - val_loss: 0.4972 - val_accuracy: 0.8532\n",
            "Epoch 47/50\n",
            "1719/1719 [==============================] - 5s 3ms/step - loss: 0.4573 - accuracy: 0.8726 - val_loss: 0.5107 - val_accuracy: 0.8492\n",
            "Epoch 48/50\n",
            "1719/1719 [==============================] - 4s 3ms/step - loss: 0.4661 - accuracy: 0.8695 - val_loss: 0.4678 - val_accuracy: 0.8606\n",
            "Epoch 49/50\n",
            "1719/1719 [==============================] - 4s 2ms/step - loss: 0.4620 - accuracy: 0.8721 - val_loss: 0.4764 - val_accuracy: 0.8664\n",
            "Epoch 50/50\n",
            "1719/1719 [==============================] - 4s 2ms/step - loss: 0.4620 - accuracy: 0.8692 - val_loss: 0.4887 - val_accuracy: 0.8536\n"
          ],
          "name": "stdout"
        }
      ]
    },
    {
      "cell_type": "code",
      "metadata": {
        "colab": {
          "base_uri": "https://localhost:8080/"
        },
        "id": "0IL1VMEmieqG",
        "outputId": "197596b7-5b95-4d77-8fe9-b0d6823f27c9"
      },
      "source": [
        "history.params"
      ],
      "execution_count": 95,
      "outputs": [
        {
          "output_type": "execute_result",
          "data": {
            "text/plain": [
              "{'epochs': 50, 'steps': 1719, 'verbose': 1}"
            ]
          },
          "metadata": {
            "tags": []
          },
          "execution_count": 95
        }
      ]
    },
    {
      "cell_type": "code",
      "metadata": {
        "colab": {
          "base_uri": "https://localhost:8080/"
        },
        "id": "M1-PBjjhjsPA",
        "outputId": "f96b0181-0d9f-42e9-ed19-e4c5b7bbca4e"
      },
      "source": [
        "print(history.epoch)"
      ],
      "execution_count": 96,
      "outputs": [
        {
          "output_type": "stream",
          "text": [
            "[0, 1, 2, 3, 4, 5, 6, 7, 8, 9, 10, 11, 12, 13, 14, 15, 16, 17, 18, 19, 20, 21, 22, 23, 24, 25, 26, 27, 28, 29, 30, 31, 32, 33, 34, 35, 36, 37, 38, 39, 40, 41, 42, 43, 44, 45, 46, 47, 48, 49]\n"
          ],
          "name": "stdout"
        }
      ]
    },
    {
      "cell_type": "code",
      "metadata": {
        "colab": {
          "base_uri": "https://localhost:8080/"
        },
        "id": "3arbbuugjusl",
        "outputId": "9c7a3781-5865-43d6-c86b-798ef7c2862b"
      },
      "source": [
        "history.history.keys()"
      ],
      "execution_count": 97,
      "outputs": [
        {
          "output_type": "execute_result",
          "data": {
            "text/plain": [
              "dict_keys(['loss', 'accuracy', 'val_loss', 'val_accuracy'])"
            ]
          },
          "metadata": {
            "tags": []
          },
          "execution_count": 97
        }
      ]
    },
    {
      "cell_type": "code",
      "metadata": {
        "colab": {
          "base_uri": "https://localhost:8080/",
          "height": 324
        },
        "id": "czQNHXwVj6jV",
        "outputId": "918bfad6-9f9c-4f88-d73e-44957c089b45"
      },
      "source": [
        "import pandas as pd\r\n",
        "\r\n",
        "pd.DataFrame(history.history).plot(figsize=(8,5))\r\n",
        "plt.grid(True)\r\n",
        "plt.gca().set_ylim(0,1)\r\n",
        "plt.show()"
      ],
      "execution_count": 98,
      "outputs": [
        {
          "output_type": "display_data",
          "data": {
            "image/png": "[encoded data removed]",
            "text/plain": [
              "<Figure size 576x360 with 1 Axes>"
            ]
          },
          "metadata": {
            "tags": [],
            "needs_background": "light"
          }
        }
      ]
    },
    {
      "cell_type": "code",
      "metadata": {
        "colab": {
          "base_uri": "https://localhost:8080/"
        },
        "id": "t-4CioX3kSK7",
        "outputId": "b70f114a-d788-462f-92ac-4c1159db4695"
      },
      "source": [
        "#Can use L1, L2 regularization or chagne the perceptron architecrture to fix the overfitting\r\n",
        "test_los, test_acc = model.evaluate(X_test, y_test)\r\n",
        "\r\n",
        "print(test_acc)"
      ],
      "execution_count": 99,
      "outputs": [
        {
          "output_type": "stream",
          "text": [
            "313/313 [==============================] - 1s 2ms/step - loss: 0.5344 - accuracy: 0.8387\n",
            "0.838699996471405\n"
          ],
          "name": "stdout"
        }
      ]
    },
    {
      "cell_type": "markdown",
      "metadata": {
        "id": "jonebx5UlVJY"
      },
      "source": [
        "### Using the Model to Make Predictions"
      ]
    },
    {
      "cell_type": "code",
      "metadata": {
        "colab": {
          "base_uri": "https://localhost:8080/"
        },
        "id": "3D4_JyuglKbE",
        "outputId": "bddf8d1b-20ac-4acb-e2ea-bb0d566c04fb"
      },
      "source": [
        "X_new = X_test[0:3]\r\n",
        "y_proba = model.predict(X_new)\r\n",
        "y_proba.round(2)"
      ],
      "execution_count": 44,
      "outputs": [
        {
          "output_type": "execute_result",
          "data": {
            "text/plain": [
              "array([[0.  , 0.  , 0.  , 0.  , 0.  , 0.07, 0.  , 0.02, 0.  , 0.92],\n",
              "       [0.  , 0.  , 0.99, 0.  , 0.  , 0.  , 0.  , 0.  , 0.  , 0.  ],\n",
              "       [0.  , 1.  , 0.  , 0.  , 0.  , 0.  , 0.  , 0.  , 0.  , 0.  ]],\n",
              "      dtype=float32)"
            ]
          },
          "metadata": {
            "tags": []
          },
          "execution_count": 44
        }
      ]
    },
    {
      "cell_type": "code",
      "metadata": {
        "colab": {
          "base_uri": "https://localhost:8080/"
        },
        "id": "oqh19oelllWP",
        "outputId": "fc502a61-4aed-4524-a816-5fbe49979a97"
      },
      "source": [
        "#Predict the output to the highest probability\r\n",
        "np.argmax(model.predict(X_new), axis=-1)"
      ],
      "execution_count": 45,
      "outputs": [
        {
          "output_type": "execute_result",
          "data": {
            "text/plain": [
              "array([9, 2, 1])"
            ]
          },
          "metadata": {
            "tags": []
          },
          "execution_count": 45
        }
      ]
    },
    {
      "cell_type": "code",
      "metadata": {
        "colab": {
          "base_uri": "https://localhost:8080/"
        },
        "id": "zprE04eYmJG0",
        "outputId": "5dc4d317-56ee-48b1-e487-3a457aac0807"
      },
      "source": [
        "#Actual label\r\n",
        "#All classified correctly\r\n",
        "y_test[0:3]"
      ],
      "execution_count": 46,
      "outputs": [
        {
          "output_type": "execute_result",
          "data": {
            "text/plain": [
              "array([9, 2, 1], dtype=uint8)"
            ]
          },
          "metadata": {
            "tags": []
          },
          "execution_count": 46
        }
      ]
    },
    {
      "cell_type": "code",
      "metadata": {
        "id": "oZpPljaMmX8r"
      },
      "source": [
        ""
      ],
      "execution_count": null,
      "outputs": []
    }
  ]
}